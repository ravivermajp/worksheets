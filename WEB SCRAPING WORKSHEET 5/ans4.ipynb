{
 "cells": [
  {
   "cell_type": "code",
   "execution_count": 51,
   "metadata": {},
   "outputs": [],
   "source": [
    "from requests import get\n",
    "url = 'https://bookpage.com/reviews'\n",
    "response = get(url)"
   ]
  },
  {
   "cell_type": "code",
   "execution_count": 52,
   "metadata": {},
   "outputs": [],
   "source": [
    "from bs4 import BeautifulSoup\n",
    "soup = BeautifulSoup(response.text, 'html.parser')"
   ]
  },
  {
   "cell_type": "code",
   "execution_count": 53,
   "metadata": {},
   "outputs": [],
   "source": [
    "raw_html = soup.find(\"div\", {\"class\": \"bp-well\"}).findAll(\"div\", {\"class\": \"flex-article-content\"})"
   ]
  },
  {
   "cell_type": "code",
   "execution_count": 54,
   "metadata": {},
   "outputs": [],
   "source": [
    "# book name, author name, genre and book review of 5 books\n",
    "def book():\n",
    "    book_list = []\n",
    "    \n",
    "    for html in raw_html:\n",
    "        book = html.find(\"h4\", {\"class\": \"italic\"}).find(\"a\").get_text()\n",
    "\n",
    "        author = html.find(\"p\", {\"class\": \"sans bold\"}).get_text().strip()\n",
    "\n",
    "        genre = html.find(\"p\", {\"class\": \"genre-links\"}).find(\"a\").get_text()\n",
    "\n",
    "        review = html.find(\"p\", {\"class\": \"\"})\n",
    "\n",
    "        raw_list = [book, author, genre, review]\n",
    "\n",
    "        book_list.append(raw_list)\n",
    "\n",
    "    return book_list"
   ]
  },
  {
   "cell_type": "code",
   "execution_count": 55,
   "metadata": {},
   "outputs": [
    {
     "name": "stdout",
     "output_type": "stream",
     "text": [
      "Book : Crow & Snow\n",
      "Author : Robert Broder, Olivier Tallec\n",
      "Genre : Children's\n",
      "Short Review : <p>A friendly scarecrow named Crow stands alone in a field, watching tractors go by and seasons pass. One winter, children build a snowman right next to Crow. After Crow finally says hello, Crow and Snow become friends. “Will you be staying awhile?” asks Crow, but Snow isn’t sure. Sadly, Crow...</p>\n",
      "--------------------------\n",
      "Book : Magic Dark and Strange\n",
      "Author : Kelly Powell\n",
      "Genre : YA Fiction\n",
      "Short Review : <p>Set in an alternate Victorian England, <strong>Magic Dark and Strange</strong> combines mystery, magic and a touch of the macabre while underscoring the harsh conditions of the working class.</p>\n",
      "--------------------------\n",
      "Book : The Kidnapping Club\n",
      "Author : Jonathan Daniel Wells\n",
      "Genre : Nonfiction\n",
      "Short Review : None\n",
      "--------------------------\n",
      "Book : Cobble Hill\n",
      "Author : Cecily von Ziegesar\n",
      "Genre : Fiction\n",
      "Short Review : <p>When a person chooses a new home, it’s rarely a decision based on the people who live nearby. The homebuyer’s focus is typically on the property and the neighborhood surrounding it. But once the person moves in, their life will invariably intersect with those of the neighbors.</p>\n",
      "--------------------------\n",
      "Book :  ★ The Zealot and the Emancipator\n",
      "Author : H.W. Brands\n",
      "Genre : Nonfiction\n",
      "Short Review : None\n",
      "--------------------------\n"
     ]
    }
   ],
   "source": [
    "i=0\n",
    "for x in book():\n",
    "    i=i+1\n",
    "    if(i==6):\n",
    "        break\n",
    "    print(f\"Book : {x[0]}\")\n",
    "    print(f\"Author : {x[1]}\")\n",
    "    print(f\"Genre : {x[2]}\")\n",
    "    print(f\"Short Review : {x[3]}\")\n",
    "    print(\"--------------------------\")"
   ]
  },
  {
   "cell_type": "code",
   "execution_count": null,
   "metadata": {},
   "outputs": [],
   "source": []
  },
  {
   "cell_type": "code",
   "execution_count": null,
   "metadata": {},
   "outputs": [],
   "source": []
  }
 ],
 "metadata": {
  "kernelspec": {
   "display_name": "Python 3",
   "language": "python",
   "name": "python3"
  },
  "language_info": {
   "codemirror_mode": {
    "name": "ipython",
    "version": 3
   },
   "file_extension": ".py",
   "mimetype": "text/x-python",
   "name": "python",
   "nbconvert_exporter": "python",
   "pygments_lexer": "ipython3",
   "version": "3.7.4"
  }
 },
 "nbformat": 4,
 "nbformat_minor": 2
}
