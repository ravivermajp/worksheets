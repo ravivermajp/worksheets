{
 "cells": [
  {
   "cell_type": "markdown",
   "metadata": {},
   "source": [
    "## 14. Write a python program to solve a quadratic equation of the form 𝑎𝑥2+𝑏𝑥+𝑐=0. Where a, b and c are to be taken by user input. Handle the erroneous input, such as ‘a’ should not be equal to 0."
   ]
  },
  {
   "cell_type": "code",
   "execution_count": 75,
   "metadata": {},
   "outputs": [
    {
     "name": "stdout",
     "output_type": "stream",
     "text": [
      "Enter a Number - A : 2\n",
      "Enter a Number - B : 10\n",
      "Enter a Number - C : 12\n",
      "Answer is (-3+0j) and (-2+0j)\n"
     ]
    }
   ],
   "source": [
    "import cmath\n",
    "try:\n",
    "    a = int(input(\"Enter a Number - A : \"))\n",
    "    b = int(input(\"Enter a Number - B : \"))\n",
    "    c = int(input(\"Enter a Number - C : \"))\n",
    "\n",
    "    if a != 0:\n",
    "        d = (b**2) - (4*a*c)\n",
    "        ans1 = (-b-cmath.sqrt(d) ) / (2*a)\n",
    "        ans2 = (-b+cmath.sqrt(d) ) / (2*a)\n",
    "        print(f\"Answer is {ans1} and {ans2}\")\n",
    "    else:\n",
    "        print(\"Values of A is equal to 0\")\n",
    "except:\n",
    "    print(\"Invalid Number. Please Try Again !\")"
   ]
  },
  {
   "cell_type": "markdown",
   "metadata": {},
   "source": [
    "# 15. Write a python program to find the sum of first ‘n’ natural numbers without using any loop. Ask user to input the value of ‘n’."
   ]
  },
  {
   "cell_type": "code",
   "execution_count": 21,
   "metadata": {},
   "outputs": [],
   "source": [
    "def Sumofno(n,total):\n",
    "    if(n+1>0):\n",
    "        total+=Sumofno(n-1,total)\n",
    "        return total+n\n",
    "    else:\n",
    "        return total"
   ]
  },
  {
   "cell_type": "code",
   "execution_count": 24,
   "metadata": {},
   "outputs": [
    {
     "name": "stdout",
     "output_type": "stream",
     "text": [
      "Enter a Number : 10\n",
      "55\n"
     ]
    }
   ],
   "source": [
    "try:\n",
    "    user_inp = int(input(\"Enter a Number : \"))\n",
    "    print(Sumofno(user_inp,0))\n",
    "except:\n",
    "    print(\"Invalid Number. Please Try Again !\")"
   ]
  },
  {
   "cell_type": "code",
   "execution_count": null,
   "metadata": {},
   "outputs": [],
   "source": []
  }
 ],
 "metadata": {
  "kernelspec": {
   "display_name": "Python 3",
   "language": "python",
   "name": "python3"
  },
  "language_info": {
   "codemirror_mode": {
    "name": "ipython",
    "version": 3
   },
   "file_extension": ".py",
   "mimetype": "text/x-python",
   "name": "python",
   "nbconvert_exporter": "python",
   "pygments_lexer": "ipython3",
   "version": "3.7.4"
  }
 },
 "nbformat": 4,
 "nbformat_minor": 2
}
