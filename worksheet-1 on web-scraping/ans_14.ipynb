{
 "cells": [
  {
   "cell_type": "code",
   "execution_count": 15,
   "metadata": {},
   "outputs": [],
   "source": [
    "from selenium import webdriver\n",
    "import time\n",
    "import requests\n",
    "path = \"chromedriver.exe\"\n",
    "driver = webdriver.Chrome(path)"
   ]
  },
  {
   "cell_type": "code",
   "execution_count": 16,
   "metadata": {},
   "outputs": [],
   "source": [
    "url= \"https://www.flipnwork.com/\"\n",
    "driver.get(url)"
   ]
  },
  {
   "cell_type": "code",
   "execution_count": 17,
   "metadata": {},
   "outputs": [
    {
     "name": "stdout",
     "output_type": "stream",
     "text": [
      "Title Found : Project Management Tool - Flip Robo Technologies\n"
     ]
    }
   ],
   "source": [
    "try:\n",
    "    x = requests.get(url)\n",
    "    if(x.status_code==200):\n",
    "        title = driver.title\n",
    "        if title != \"\":\n",
    "            print(f\"Title Found : {title}\")\n",
    "            driver.close()\n",
    "        else:\n",
    "            print(\"NO Title Found. Please Try Again !\")\n",
    "            driver.close()\n",
    "except:\n",
    "    print(\"Invalid URL ! -  No Title Found.\")\n",
    "    driver.quit()"
   ]
  },
  {
   "cell_type": "code",
   "execution_count": null,
   "metadata": {},
   "outputs": [],
   "source": []
  }
 ],
 "metadata": {
  "kernelspec": {
   "display_name": "Python 3",
   "language": "python",
   "name": "python3"
  },
  "language_info": {
   "codemirror_mode": {
    "name": "ipython",
    "version": 3
   },
   "file_extension": ".py",
   "mimetype": "text/x-python",
   "name": "python",
   "nbconvert_exporter": "python",
   "pygments_lexer": "ipython3",
   "version": "3.7.4"
  }
 },
 "nbformat": 4,
 "nbformat_minor": 2
}
