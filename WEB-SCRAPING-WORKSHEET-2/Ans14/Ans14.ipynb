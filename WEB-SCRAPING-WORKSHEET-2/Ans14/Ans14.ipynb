{
 "cells": [
  {
   "cell_type": "code",
   "execution_count": 1,
   "metadata": {},
   "outputs": [],
   "source": [
    "from selenium import webdriver\n",
    "import os\n",
    "import time\n",
    "import shutil\n",
    "import requests"
   ]
  },
  {
   "cell_type": "code",
   "execution_count": 3,
   "metadata": {},
   "outputs": [],
   "source": [
    "driver = webdriver.Chrome(executable_path = 'chromedriver.exe')\n",
    "my_page = driver.get('https://www.flipkart.com/search?q=rayban%20sunglasses&otracker=search&otracker1=search&marketplace=FLIPKART&as-show=on&as=off')"
   ]
  },
  {
   "cell_type": "code",
   "execution_count": 4,
   "metadata": {},
   "outputs": [],
   "source": [
    "def make_directory(dirname):\n",
    "    current_path = os.getcwd()\n",
    "    path = os.path.join(current_path, dirname)\n",
    "    if not os.path.exists(path):\n",
    "        os.makedirs(path)\n",
    "make_directory(\"Rayban_Sunglasses\")"
   ]
  },
  {
   "cell_type": "code",
   "execution_count": 6,
   "metadata": {},
   "outputs": [
    {
     "name": "stdout",
     "output_type": "stream",
     "text": [
      "https://rukminim1.flixcart.com/image/317/380/kekadu80-0/sunglass/n/p/w/0rb3025i00253f55-s-ray-ban-original-imafv78mgqfujpta.jpeg?q=50\n",
      "https://rukminim1.flixcart.com/image/317/380/sunglass/u/g/7/0rb3342i004-58-ray-ban-63-original-imadswbuxzksdvmu.jpeg?q=50\n",
      "https://rukminim1.flixcart.com/image/317/380/jcgjo280/sunglass/f/z/j/0rb3025il020558-58-ray-ban-original-imaffh7kugyggnff.jpeg?q=50\n",
      "https://rukminim1.flixcart.com/image/317/380/sunglass/n/e/d/0rb4165601-8g-ray-ban-55-original-imadrnwpnmkgyhdy.jpeg?q=50\n",
      "https://rukminim1.flixcart.com/image/317/380/jj7givk0/sunglass/h/2/h/58-0rb3025i-ray-ban-original-imaexcmg93ybdxb9.jpeg?q=50\n",
      "https://rukminim1.flixcart.com/image/317/380/jhjg13k0/sunglass/7/b/c/55-0rb3025i088-3f55-ray-ban-original-imaf5jazzjktdnx2.jpeg?q=50\n",
      "https://rukminim1.flixcart.com/image/317/380/k8ho0i80/sunglass/f/j/j/56-0rb4387601-7156-ray-ban-original-imafqhhcbptjbjxj.jpeg?q=50\n",
      "https://rukminim1.flixcart.com/image/317/380/k8ho0i80/sunglass/5/d/t/50-0rb4340-ray-ban-original-imafqhhcxtbpzwhw.jpeg?q=50\n",
      "https://rukminim1.flixcart.com/image/317/380/sunglass/v/w/7/0rb3025i003-3258-ray-ban-58-original-imaeazza9kdzsrgg.jpeg?q=50\n",
      "https://rukminim1.flixcart.com/image/317/380/k8ho0i80/sunglass/9/g/j/53-0rb359490137353-ray-ban-original-imafqhhca7c8pczu.jpeg?q=50\n",
      "https://rukminim1.flixcart.com/image/317/380/k8ho0i80/sunglass/p/t/k/54-0rb4171-ray-ban-original-imafqhhduexfsrgv.jpeg?q=50\n",
      "https://rukminim1.flixcart.com/image/317/380/sunglass/3/c/h/0rb3025i-001-51-ray-ban-58-original-imadwmsxjgyk8zj5.jpeg?q=50\n",
      "https://rukminim1.flixcart.com/image/317/380/sunglass/d/c/9/3052i-60-w3180-ray-ban-m-original-imaem82yvgjh6zxk.jpeg?q=50\n",
      "https://rukminim1.flixcart.com/image/317/380/k8ho0i80/sunglass/k/m/k/62-0rb3025i001-5862-ray-ban-original-imafqhhcsshwqwzg.jpeg?q=50\n",
      "https://rukminim1.flixcart.com/image/317/380/jj8vyq80/sunglass/g/h/t/62-0rb3026i-ray-ban-original-imaf6ssthhmj9u6a.jpeg?q=50\n",
      "https://rukminim1.flixcart.com/image/317/380/k8ho0i80/sunglass/w/r/a/52-0rb4195601s9a52-ray-ban-original-imafqhhcd3y7ge4j.jpeg?q=50\n",
      "https://rukminim1.flixcart.com/image/317/380/k8ho0i80/sunglass/7/y/w/57-0rb4312ch601sa157-ray-ban-original-imafqhhc5mf3zzfm.jpeg?q=50\n",
      "https://rukminim1.flixcart.com/image/317/380/jcgjo280/sunglass/e/z/f/0rb3025i004-5158-58-ray-ban-original-imaffh7k6atr7u5g.jpeg?q=50\n",
      "https://rukminim1.flixcart.com/image/317/380/k8ho0i80/sunglass/b/z/y/60-0rb3383i00160-ray-ban-original-imafqhhcyqns2d2y.jpeg?q=50\n",
      "https://rukminim1.flixcart.com/image/317/380/k8ho0i80/sunglass/h/f/g/51-0rb2176-901-ray-ban-original-imafqhhcahkr3ghz.jpeg?q=50\n",
      "https://rukminim1.flixcart.com/image/317/380/kekadu80-0/sunglass/s/t/f/0rb3025i002-3f58-58-ray-ban-original-imafv7epdvbx6ksu.jpeg?q=50\n",
      "https://rukminim1.flixcart.com/image/317/380/k8ho0i80/sunglass/y/6/k/62-0rb3025i002-5862-ray-ban-original-imafqhhcktfeh2vp.jpeg?q=50\n",
      "https://rukminim1.flixcart.com/image/317/380/jcgjo280/sunglass/7/v/x/0rb3025i001-5758-58-ray-ban-original-imaffh7kbchnjefk.jpeg?q=50\n",
      "https://rukminim1.flixcart.com/image/317/380/kcgk1ow0/sunglass/j/d/k/54-1208-style-guru-original-imafth8gm3mmd9zy.jpeg?q=50\n",
      "https://rukminim1.flixcart.com/image/317/380/kcgk1ow0/sunglass/7/l/g/54-4287-style-guru-original-imafth7zxgcavn5h.jpeg?q=50\n",
      "https://rukminim1.flixcart.com/image/317/380/jj8vyq80/sunglass/w/x/d/55-0rb4165-ray-ban-original-imaf6sstqryqkgze.jpeg?q=50\n",
      "https://rukminim1.flixcart.com/image/317/380/k8ho0i80/sunglass/6/s/r/62-0rb8318ch004-6o62-ray-ban-original-imafqhhcggzswbpe.jpeg?q=50\n",
      "https://rukminim1.flixcart.com/image/317/380/k8ho0i80/sunglass/x/e/h/59-0rb3449i-ray-ban-original-imafqhhdfvepeyhs.jpeg?q=50\n",
      "https://rukminim1.flixcart.com/image/317/380/k8ho0i80/sunglass/x/c/y/58-0rb3025i004-7858-ray-ban-original-imafqhhcx9epaxvx.jpeg?q=50\n",
      "https://rukminim1.flixcart.com/image/317/380/k8ho0i80/sunglass/r/a/p/58-0rb3025i-l9797-ray-ban-original-imafqhhcucwca5ju.jpeg?q=50\n",
      "https://rukminim1.flixcart.com/image/317/380/k8ho0i80/sunglass/q/r/q/55-0rb3025i003-3f55-ray-ban-original-imafqhhchzh6nwqm.jpeg?q=50\n",
      "https://rukminim1.flixcart.com/image/317/380/jiyvvrk0/sunglass/e/z/n/49-0rb24471247p249-ray-ban-original-imaf6kwqqhjxxafb.jpeg?q=50\n",
      "https://rukminim1.flixcart.com/image/317/380/jchz3ww0/sunglass/u/j/n/rb3025001-51-55-ray-ban-original-imaffh7bgeqezdqz.jpeg?q=50\n",
      "https://rukminim1.flixcart.com/image/317/380/jchz3ww0/sunglass/d/r/d/0rb3538187-9a53-53-ray-ban-original-imaffmybsvsvjy3w.jpeg?q=50\n",
      "https://rukminim1.flixcart.com/image/317/380/k8ho0i80/sunglass/r/r/4/58-0rb3025i112-8558-ray-ban-original-imafqhhcjhmczgrz.jpeg?q=50\n",
      "https://rukminim1.flixcart.com/image/317/380/j81xsi80/sunglass/j/2/y/49-0rb3016901-5849-ray-ban-original-imaey5tvm6cexgns.jpeg?q=50\n",
      "https://rukminim1.flixcart.com/image/317/380/kbgu1e80/sunglass/8/y/t/all-hot-black-aviator-sunglasses-henry-richel-original-imafst9jyu9dvy8h.jpeg?q=50\n",
      "https://rukminim1.flixcart.com/image/317/380/k6ci8i80/sunglass/g/t/d/56-4287-rozdeal-original-imafjb6kzsdtdgnm.jpeg?q=50\n",
      "https://rukminim1.flixcart.com/image/317/380/kcgk1ow0/sunglass/d/s/y/54-11089-style-guru-original-imafth6ztstbngbn.jpeg?q=50\n",
      "https://rukminim1.flixcart.com/image/317/380/jnun1jk0/sunglass/m/s/d/0rb3025i112-17-58-58-ray-ban-original-imafafs4vyxpaxjf.jpeg?q=50\n"
     ]
    }
   ],
   "source": [
    "urls = []\n",
    "time.sleep(5)\n",
    "images = driver.find_elements_by_xpath(\"//img[@class='_3togXc']\")\n",
    "for image in images:\n",
    "    source = image.get_attribute('src')\n",
    "    urls.append(source)\n",
    "    print(source)"
   ]
  },
  {
   "cell_type": "code",
   "execution_count": 7,
   "metadata": {},
   "outputs": [
    {
     "name": "stdout",
     "output_type": "stream",
     "text": [
      "Downloading 1 of 10 images\n",
      "Downloading 2 of 10 images\n",
      "Downloading 3 of 10 images\n",
      "Downloading 4 of 10 images\n",
      "Downloading 5 of 10 images\n",
      "Downloading 6 of 10 images\n",
      "Downloading 7 of 10 images\n",
      "Downloading 8 of 10 images\n",
      "Downloading 9 of 10 images\n",
      "Downloading 10 of 10 images\n"
     ]
    }
   ],
   "source": [
    "x = 0\n",
    "while(x < 10):\n",
    "    print(f'Downloading {x+1} of {10} images')\n",
    "    #print('Downloading {0} of {1} images'.format(x+1, 100))\n",
    "    response = requests.get(urls[x])\n",
    "    with open('Rayban_Sunglasses/glasses.{0}.jpeg'.format(x+1), \"wb\") as file:\n",
    "        file.write(response.content)\n",
    "    x=x+1"
   ]
  },
  {
   "cell_type": "code",
   "execution_count": null,
   "metadata": {},
   "outputs": [],
   "source": []
  }
 ],
 "metadata": {
  "kernelspec": {
   "display_name": "Python 3",
   "language": "python",
   "name": "python3"
  },
  "language_info": {
   "codemirror_mode": {
    "name": "ipython",
    "version": 3
   },
   "file_extension": ".py",
   "mimetype": "text/x-python",
   "name": "python",
   "nbconvert_exporter": "python",
   "pygments_lexer": "ipython3",
   "version": "3.7.4"
  }
 },
 "nbformat": 4,
 "nbformat_minor": 4
}
