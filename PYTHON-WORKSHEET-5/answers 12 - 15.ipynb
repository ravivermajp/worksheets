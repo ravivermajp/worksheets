{
 "cells": [
  {
   "cell_type": "markdown",
   "metadata": {},
   "source": [
    "# 12. write a python program to square the elements of a list by using list comprehension"
   ]
  },
  {
   "cell_type": "code",
   "execution_count": 17,
   "metadata": {},
   "outputs": [
    {
     "name": "stdout",
     "output_type": "stream",
     "text": [
      "[1, 4, 9]\n"
     ]
    }
   ],
   "source": [
    "num = [1, 2, 3]\n",
    "square = [number ** 2 for number in num]\n",
    "print(square)"
   ]
  },
  {
   "cell_type": "markdown",
   "metadata": {},
   "source": [
    "# 13. Write a pyhton program to drop duplicate elements from a list of numbers."
   ]
  },
  {
   "cell_type": "code",
   "execution_count": 20,
   "metadata": {},
   "outputs": [
    {
     "data": {
      "text/plain": [
       "[1, 2, 3, 4, 5, 6]"
      ]
     },
     "execution_count": 20,
     "metadata": {},
     "output_type": "execute_result"
    }
   ],
   "source": [
    "list1 = [1, 2, 3, 4, 5, 6, 4, 3, 2, 1]   \n",
    "clean_list = [] \n",
    "[clean_list.append(x) for x in list1 if x not in clean_list] \n",
    "clean_list"
   ]
  },
  {
   "cell_type": "markdown",
   "metadata": {},
   "source": [
    "# 14. Take two sets of numbers and try implementing the set operations - intersection, union, difference and symmetric_difference between them."
   ]
  },
  {
   "cell_type": "code",
   "execution_count": 22,
   "metadata": {},
   "outputs": [
    {
     "name": "stdout",
     "output_type": "stream",
     "text": [
      "Intersection : {2, 3}\n",
      "Union : {1, 2, 3, 4}\n",
      "Difference : {1}\n",
      "Symmetric Difference : {1, 4}\n"
     ]
    }
   ],
   "source": [
    "a = set([1, 2, 3])\n",
    "b = set([2, 3, 4])\n",
    "\n",
    "# Intersection\n",
    "intersection = a.intersection(b)\n",
    "\n",
    "# Union\n",
    "union = a.union(b)\n",
    "\n",
    "# Difference\n",
    "difference = a.difference(b)\n",
    "\n",
    "# Symmetric Difference\n",
    "symmetric_difference = a.symmetric_difference(b)\n",
    "    \n",
    "print(f\"Intersection : {intersection}\")\n",
    "print(f\"Union : {union}\")\n",
    "print(f\"Difference : {difference}\")\n",
    "print(f\"Symmetric Difference : {symmetric_difference}\")"
   ]
  },
  {
   "cell_type": "markdown",
   "metadata": {},
   "source": [
    "# 15. Write a python program to add the elements of a set."
   ]
  },
  {
   "cell_type": "code",
   "execution_count": 25,
   "metadata": {},
   "outputs": [
    {
     "data": {
      "text/plain": [
       "{'naresh', 'raj', 'ravi', 'suman'}"
      ]
     },
     "execution_count": 25,
     "metadata": {},
     "output_type": "execute_result"
    }
   ],
   "source": [
    "person_names = {'ravi','raj','suman'}\n",
    "person_names.add('naresh')\n",
    "person_names"
   ]
  },
  {
   "cell_type": "code",
   "execution_count": null,
   "metadata": {},
   "outputs": [],
   "source": []
  }
 ],
 "metadata": {
  "kernelspec": {
   "display_name": "Python 3",
   "language": "python",
   "name": "python3"
  },
  "language_info": {
   "codemirror_mode": {
    "name": "ipython",
    "version": 3
   },
   "file_extension": ".py",
   "mimetype": "text/x-python",
   "name": "python",
   "nbconvert_exporter": "python",
   "pygments_lexer": "ipython3",
   "version": "3.7.4"
  }
 },
 "nbformat": 4,
 "nbformat_minor": 2
}
