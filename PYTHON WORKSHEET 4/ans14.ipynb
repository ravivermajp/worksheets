{
 "cells": [
  {
   "cell_type": "markdown",
   "metadata": {},
   "source": [
    "# 14. Write a python program to represent a user entered number in expanded form."
   ]
  },
  {
   "cell_type": "code",
   "execution_count": 9,
   "metadata": {},
   "outputs": [],
   "source": [
    "def expand(user_entered_num):\n",
    "    result = []\n",
    "    for index, digit in enumerate(str(user_entered_num)[::-1]):\n",
    "        if int(digit) != 0:\n",
    "            result.append(digit + ('0' * index))\n",
    "\n",
    "    return ' + '.join(result[::-1])"
   ]
  },
  {
   "cell_type": "code",
   "execution_count": 14,
   "metadata": {},
   "outputs": [
    {
     "name": "stdout",
     "output_type": "stream",
     "text": [
      "Enter a Number : 18\n",
      "Expanded Form of 18 is 10 + 8\n"
     ]
    }
   ],
   "source": [
    "user_entered_num = int(input(\"Enter a Number : \"))\n",
    "print(f\"Expanded Form of {user_entered_num} is {expand(user_entered_num)}\")"
   ]
  },
  {
   "cell_type": "code",
   "execution_count": null,
   "metadata": {},
   "outputs": [],
   "source": []
  }
 ],
 "metadata": {
  "kernelspec": {
   "display_name": "Python 3",
   "language": "python",
   "name": "python3"
  },
  "language_info": {
   "codemirror_mode": {
    "name": "ipython",
    "version": 3
   },
   "file_extension": ".py",
   "mimetype": "text/x-python",
   "name": "python",
   "nbconvert_exporter": "python",
   "pygments_lexer": "ipython3",
   "version": "3.7.4"
  }
 },
 "nbformat": 4,
 "nbformat_minor": 2
}
